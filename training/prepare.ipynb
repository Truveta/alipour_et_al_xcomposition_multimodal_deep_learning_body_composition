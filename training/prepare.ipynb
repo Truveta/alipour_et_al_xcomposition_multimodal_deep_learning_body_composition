{
 "cells": [
  {
   "cell_type": "code",
   "execution_count": null,
   "metadata": {},
   "outputs": [],
   "source": [
    "import pathlib\n",
    "import pandas as pd\n",
    "from tqdm import tqdm\n",
    "import nibabel as nib\n",
    "\n",
    "from BodyCompositionCalcV2 import calculate_body_composition_measures, calculate_body_composition_volume_measures"
   ]
  },
  {
   "cell_type": "code",
   "execution_count": null,
   "metadata": {},
   "outputs": [],
   "source": [
    "data_path = pathlib.Path('./training-data')\n",
    "output_folder = pathlib.Path('./output')"
   ]
  },
  {
   "cell_type": "code",
   "execution_count": null,
   "metadata": {},
   "outputs": [],
   "source": [
    "clinical_df = pd.read_csv('./training-data/clinical.csv', index_col = 0)\n",
    "clinical_df = clinical_df.set_index('PatientID')"
   ]
  },
  {
   "cell_type": "code",
   "execution_count": 4,
   "id": "edce977f-c9b0-4ebe-b99b-0e786bb1295e",
   "metadata": {},
   "outputs": [],
   "source": [
    "mean_height = clinical_df['Height_in_meters'].mean()\n",
    "clinical_df['Height_in_meters'] = clinical_df['Height_in_meters'].fillna(mean_height)"
   ]
  },
  {
   "cell_type": "code",
   "execution_count": null,
   "metadata": {},
   "outputs": [],
   "source": [
    "l3_output_name = 'body_composition_output_l3_v1.csv'\n",
    "t12_output_name = 'body_composition_output_t12_v1.csv'\n",
    "volumetric_output_name = 'body_composition_output_volumetric_v1.csv'"
   ]
  },
  {
   "cell_type": "code",
   "execution_count": null,
   "metadata": {},
   "outputs": [],
   "source": [
    "l3_list = []\n",
    "t12_list = []\n",
    "volume_list = []\n",
    "\n",
    "i = 0\n",
    "niftis = data_path.glob('*/*.nii.gz')\n",
    "\n",
    "for nifti_path in tqdm(niftis, total=len(niftis), desc='Calculating Body Composition Metrics', unit='CTs'):\n",
    "    person_id = nifti_path.parent.name\n",
    "    try:\n",
    "        height = clinical_df.loc[person_id].Height_in_meters\n",
    "    except:\n",
    "        height = mean_height\n",
    "    \n",
    "    tqdm.write(f\"Processing Patient ID: {person_id}\")\n",
    "\n",
    "    # load images\n",
    "    base_dir = nifti_path.parent\n",
    "    nifti_image = nib.load(nifti_path)\n",
    "    masks = {\n",
    "        'total_img' : nib.load(base_dir / f\"{person_id}_total_masks.nii\"),\n",
    "        'body_img' : nib.load(base_dir / f\"{person_id}_body_masks.nii\"),\n",
    "        'tissue_img' : nib.load(base_dir / f\"{person_id}_tissue_masks.nii\")\n",
    "    }\n",
    "    \n",
    "    try:\n",
    "        body_comp = calculate_body_composition_measures(\n",
    "            nifti_image,\n",
    "            masks,\n",
    "            height = height,\n",
    "            fat_hu_range = (-190, -30),\n",
    "            calc_threshold = 'adaptive',\n",
    "            vertebra = 'L3',\n",
    "            output_unit = 'cm'\n",
    "        )\n",
    "        body_comp['PersonId'] = person_id\n",
    "        l3_list.append(body_comp)\n",
    "    except Exception as e: \n",
    "        tqdm.write(f\"error L3 error: {e}\")\n",
    "\n",
    "    try:\n",
    "        body_comp = calculate_body_composition_measures(\n",
    "            nifti_image,\n",
    "            masks,\n",
    "            height = height,\n",
    "            fat_hu_range = (-190, -30),\n",
    "            calc_threshold = 'adaptive',\n",
    "            vertebra = 'T12',\n",
    "            output_unit = 'cm'\n",
    "        )\n",
    "        body_comp['PersonId'] = person_id\n",
    "        t12_list.append(body_comp)\n",
    "    except Exception as e: \n",
    "        tqdm.write(f\"error T12 error: {e}\")\n",
    "\n",
    "    try:\n",
    "        body_comp = calculate_body_composition_volume_measures(\n",
    "            nifti_image,\n",
    "            masks,\n",
    "            height = height,\n",
    "            fat_hu_range = (-190, -30),\n",
    "            calc_threshold = 'adaptive',\n",
    "            output_unit = 'cm'\n",
    "        )\n",
    "        body_comp['PersonId'] = person_id\n",
    "        volume_list.append(body_comp)\n",
    "    except Exception as e: \n",
    "        tqdm.write(f\"error volume error: {e}\")\n",
    "\n",
    "    if i % 10 == 0:\n",
    "        # dump intermediate state\n",
    "        pd.DataFrame(t12_list).to_csv(output_folder /  t12_output_name)\n",
    "        pd.DataFrame(l3_list).to_csv(output_folder /  l3_output_name)\n",
    "        pd.DataFrame(volume_list).to_csv(output_folder /  volumetric_output_name)\n",
    "    i += 1"
   ]
  },
  {
   "cell_type": "code",
   "execution_count": null,
   "metadata": {},
   "outputs": [],
   "source": [
    "l3_df = pd.DataFrame(l3_list)\n",
    "l3_df.to_csv(output_folder / l3_output_name)\n",
    "l3_df"
   ]
  },
  {
   "cell_type": "code",
   "execution_count": null,
   "metadata": {},
   "outputs": [],
   "source": [
    "t12_df = pd.DataFrame(t12_list)\n",
    "t12_df.to_csv(output_folder / t12_output_name)\n",
    "t12_df"
   ]
  },
  {
   "cell_type": "code",
   "execution_count": null,
   "metadata": {},
   "outputs": [],
   "source": [
    "volume_df = pd.DataFrame(volume_list)\n",
    "volume_df.to_csv(output_folder / volumetric_output_name)\n",
    "volume_df"
   ]
  },
  {
   "cell_type": "code",
   "execution_count": null,
   "metadata": {},
   "outputs": [],
   "source": [
    "print(\"fin.\")"
   ]
  },
  {
   "cell_type": "code",
   "execution_count": null,
   "metadata": {},
   "outputs": [],
   "source": []
  }
 ],
 "metadata": {
  "kernelspec": {
   "display_name": "BodyComp",
   "language": "python",
   "name": "bodycomp"
  },
  "language_info": {
   "codemirror_mode": {
    "name": "ipython",
    "version": 3
   },
   "file_extension": ".py",
   "mimetype": "text/x-python",
   "name": "python",
   "nbconvert_exporter": "python",
   "pygments_lexer": "ipython3",
   "version": "3.10.12"
  }
 },
 "nbformat": 4,
 "nbformat_minor": 5
}
